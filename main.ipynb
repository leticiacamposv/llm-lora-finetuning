{
 "cells": [
  {
   "cell_type": "code",
   "execution_count": 2,
   "metadata": {},
   "outputs": [],
   "source": [
    "from datasets import load_dataset, DatasetDict, Dataset\n",
    "\n",
    "from transformers import (\n",
    "    AutoTokenizer,\n",
    "    AutoConfig,\n",
    "    AutoModelForQuestionAnswering,\n",
    "    DataCollatorWithPadding,\n",
    "    TrainingArguments,\n",
    "    Trainer\n",
    ")\n",
    "\n",
    "from peft import PeftModel, PeftConfig, get_peft_model, LoraConfig\n",
    "import evaluate\n",
    "import torch\n",
    "import numpy as np\n",
    "import pandas as pd"
   ]
  },
  {
   "cell_type": "code",
   "execution_count": 4,
   "metadata": {},
   "outputs": [
    {
     "name": "stderr",
     "output_type": "stream",
     "text": [
      "c:\\Users\\letic\\OneDrive\\Área de Trabalho\\Git repos\\llm-lora-finetuning\\.venv\\lib\\site-packages\\huggingface_hub\\file_download.py:157: UserWarning: `huggingface_hub` cache-system uses symlinks by default to efficiently store duplicated files but your machine does not support them in C:\\Users\\letic\\.cache\\huggingface\\hub\\models--distilbert-base-uncased. Caching files will still work but in a degraded version that might require more space on your disk. This warning can be disabled by setting the `HF_HUB_DISABLE_SYMLINKS_WARNING` environment variable. For more details, see https://huggingface.co/docs/huggingface_hub/how-to-cache#limitations.\n",
      "To support symlinks on Windows, you either need to activate Developer Mode or to run Python as an administrator. In order to see activate developer mode, see this article: https://docs.microsoft.com/en-us/windows/apps/get-started/enable-your-device-for-development\n",
      "  warnings.warn(message)\n",
      "Some weights of DistilBertForQuestionAnswering were not initialized from the model checkpoint at distilbert-base-uncased and are newly initialized: ['qa_outputs.bias', 'qa_outputs.weight']\n",
      "You should probably TRAIN this model on a down-stream task to be able to use it for predictions and inference.\n"
     ]
    }
   ],
   "source": [
    "model_name = \"distilbert-base-uncased\"\n",
    "model = AutoModelForQuestionAnswering.from_pretrained(model_name)"
   ]
  },
  {
   "cell_type": "markdown",
   "metadata": {},
   "source": [
    "# Pre-processing data"
   ]
  },
  {
   "cell_type": "code",
   "execution_count": 13,
   "metadata": {},
   "outputs": [
    {
     "data": {
      "text/html": [
       "<div>\n",
       "<style scoped>\n",
       "    .dataframe tbody tr th:only-of-type {\n",
       "        vertical-align: middle;\n",
       "    }\n",
       "\n",
       "    .dataframe tbody tr th {\n",
       "        vertical-align: top;\n",
       "    }\n",
       "\n",
       "    .dataframe thead th {\n",
       "        text-align: right;\n",
       "    }\n",
       "</style>\n",
       "<table border=\"1\" class=\"dataframe\">\n",
       "  <thead>\n",
       "    <tr style=\"text-align: right;\">\n",
       "      <th></th>\n",
       "      <th>output_text</th>\n",
       "      <th>input_text</th>\n",
       "    </tr>\n",
       "  </thead>\n",
       "  <tbody>\n",
       "    <tr>\n",
       "      <th>0</th>\n",
       "      <td>It is difficult to find happiness within onese...</td>\n",
       "      <td>Happiness and Inner Self</td>\n",
       "    </tr>\n",
       "    <tr>\n",
       "      <th>1</th>\n",
       "      <td>All truth passes through three stages. First, ...</td>\n",
       "      <td>The Nature of Truth</td>\n",
       "    </tr>\n",
       "    <tr>\n",
       "      <th>2</th>\n",
       "      <td>The wise have always said the same things, and...</td>\n",
       "      <td>Wisdom vs. Foolishness</td>\n",
       "    </tr>\n",
       "    <tr>\n",
       "      <th>3</th>\n",
       "      <td>The majority of men are not capable of thinkin...</td>\n",
       "      <td>Critical Thinking vs. Blind Belief</td>\n",
       "    </tr>\n",
       "    <tr>\n",
       "      <th>4</th>\n",
       "      <td>A pessimist is an optimist in full possession ...</td>\n",
       "      <td>Pessimism and Realism</td>\n",
       "    </tr>\n",
       "  </tbody>\n",
       "</table>\n",
       "</div>"
      ],
      "text/plain": [
       "                                         output_text  \\\n",
       "0  It is difficult to find happiness within onese...   \n",
       "1  All truth passes through three stages. First, ...   \n",
       "2  The wise have always said the same things, and...   \n",
       "3  The majority of men are not capable of thinkin...   \n",
       "4  A pessimist is an optimist in full possession ...   \n",
       "\n",
       "                           input_text  \n",
       "0            Happiness and Inner Self  \n",
       "1                 The Nature of Truth  \n",
       "2              Wisdom vs. Foolishness  \n",
       "3  Critical Thinking vs. Blind Belief  \n",
       "4               Pessimism and Realism  "
      ]
     },
     "execution_count": 13,
     "metadata": {},
     "output_type": "execute_result"
    }
   ],
   "source": [
    "schopenhauer_df = pd.read_csv('data/gpt-schopenn.csv').rename(columns={'Quotes':'output_text', 'Question':'input_text'})\n",
    "schopenhauer_df.head()"
   ]
  },
  {
   "cell_type": "code",
   "execution_count": 21,
   "metadata": {},
   "outputs": [],
   "source": [
    "\n",
    "INSTRUCTION_TEMPLATE = f\"\"\"\\\n",
    "Please answer the questions about the following subjects as the philosopher Arthur Schopenhauer. \\\n",
    "Answer it with a quote from you about the subject.\\\n",
    "\\\n",
    "Student question: \\\n",
    "Please share your knowledge about \n",
    "\"\"\"\n"
   ]
  },
  {
   "cell_type": "code",
   "execution_count": 22,
   "metadata": {},
   "outputs": [],
   "source": [
    "schopenhauer_df['input_text_instruct'] = INSTRUCTION_TEMPLATE + ' ' + schopenhauer_df['input_text']"
   ]
  },
  {
   "cell_type": "code",
   "execution_count": 23,
   "metadata": {},
   "outputs": [
    {
     "data": {
      "text/html": [
       "<div>\n",
       "<style scoped>\n",
       "    .dataframe tbody tr th:only-of-type {\n",
       "        vertical-align: middle;\n",
       "    }\n",
       "\n",
       "    .dataframe tbody tr th {\n",
       "        vertical-align: top;\n",
       "    }\n",
       "\n",
       "    .dataframe thead th {\n",
       "        text-align: right;\n",
       "    }\n",
       "</style>\n",
       "<table border=\"1\" class=\"dataframe\">\n",
       "  <thead>\n",
       "    <tr style=\"text-align: right;\">\n",
       "      <th></th>\n",
       "      <th>output_text</th>\n",
       "      <th>input_text</th>\n",
       "      <th>input_text_instruct</th>\n",
       "    </tr>\n",
       "  </thead>\n",
       "  <tbody>\n",
       "    <tr>\n",
       "      <th>0</th>\n",
       "      <td>It is difficult to find happiness within onese...</td>\n",
       "      <td>Happiness and Inner Self</td>\n",
       "      <td>Please answer the questions about the followin...</td>\n",
       "    </tr>\n",
       "    <tr>\n",
       "      <th>1</th>\n",
       "      <td>All truth passes through three stages. First, ...</td>\n",
       "      <td>The Nature of Truth</td>\n",
       "      <td>Please answer the questions about the followin...</td>\n",
       "    </tr>\n",
       "    <tr>\n",
       "      <th>2</th>\n",
       "      <td>The wise have always said the same things, and...</td>\n",
       "      <td>Wisdom vs. Foolishness</td>\n",
       "      <td>Please answer the questions about the followin...</td>\n",
       "    </tr>\n",
       "    <tr>\n",
       "      <th>3</th>\n",
       "      <td>The majority of men are not capable of thinkin...</td>\n",
       "      <td>Critical Thinking vs. Blind Belief</td>\n",
       "      <td>Please answer the questions about the followin...</td>\n",
       "    </tr>\n",
       "    <tr>\n",
       "      <th>4</th>\n",
       "      <td>A pessimist is an optimist in full possession ...</td>\n",
       "      <td>Pessimism and Realism</td>\n",
       "      <td>Please answer the questions about the followin...</td>\n",
       "    </tr>\n",
       "  </tbody>\n",
       "</table>\n",
       "</div>"
      ],
      "text/plain": [
       "                                         output_text  \\\n",
       "0  It is difficult to find happiness within onese...   \n",
       "1  All truth passes through three stages. First, ...   \n",
       "2  The wise have always said the same things, and...   \n",
       "3  The majority of men are not capable of thinkin...   \n",
       "4  A pessimist is an optimist in full possession ...   \n",
       "\n",
       "                           input_text  \\\n",
       "0            Happiness and Inner Self   \n",
       "1                 The Nature of Truth   \n",
       "2              Wisdom vs. Foolishness   \n",
       "3  Critical Thinking vs. Blind Belief   \n",
       "4               Pessimism and Realism   \n",
       "\n",
       "                                 input_text_instruct  \n",
       "0  Please answer the questions about the followin...  \n",
       "1  Please answer the questions about the followin...  \n",
       "2  Please answer the questions about the followin...  \n",
       "3  Please answer the questions about the followin...  \n",
       "4  Please answer the questions about the followin...  "
      ]
     },
     "execution_count": 23,
     "metadata": {},
     "output_type": "execute_result"
    }
   ],
   "source": [
    "schopenhauer_df.head()"
   ]
  },
  {
   "cell_type": "code",
   "execution_count": 6,
   "metadata": {},
   "outputs": [],
   "source": [
    "tokenizer = AutoTokenizer.from_pretrained(model_name)"
   ]
  }
 ],
 "metadata": {
  "kernelspec": {
   "display_name": ".venv",
   "language": "python",
   "name": "python3"
  },
  "language_info": {
   "codemirror_mode": {
    "name": "ipython",
    "version": 3
   },
   "file_extension": ".py",
   "mimetype": "text/x-python",
   "name": "python",
   "nbconvert_exporter": "python",
   "pygments_lexer": "ipython3",
   "version": "3.9.2"
  }
 },
 "nbformat": 4,
 "nbformat_minor": 2
}
